{
 "cells": [
  {
   "cell_type": "markdown",
   "metadata": {},
   "source": [
    "# Self-Driving Car Engineer Nanodegree\n",
    "\n",
    "## Deep Learning\n",
    "\n",
    "## Project: Build a Traffic Sign Recognition Classifier\n",
    "\n",
    "In this notebook, a template is provided for you to implement your functionality in stages, which is required to successfully complete this project. If additional code is required that cannot be included in the notebook, be sure that the Python code is successfully imported and included in your submission if necessary. \n",
    "\n",
    "> **Note**: Once you have completed all of the code implementations, you need to finalize your work by exporting the iPython Notebook as an HTML document. Before exporting the notebook to html, all of the code cells need to have been run so that reviewers can see the final implementation and output. You can then export the notebook by using the menu above and navigating to  \\n\",\n",
    "    \"**File -> Download as -> HTML (.html)**. Include the finished document along with this notebook as your submission. \n",
    "\n",
    "In addition to implementing code, there is a writeup to complete. The writeup should be completed in a separate file, which can be either a markdown file or a pdf document. There is a [write up template](https://github.com/udacity/CarND-Traffic-Sign-Classifier-Project/blob/master/writeup_template.md) that can be used to guide the writing process. Completing the code template and writeup template will cover all of the [rubric points](https://review.udacity.com/#!/rubrics/481/view) for this project.\n",
    "\n",
    "The [rubric](https://review.udacity.com/#!/rubrics/481/view) contains \"Stand Out Suggestions\" for enhancing the project beyond the minimum requirements. The stand out suggestions are optional. If you decide to pursue the \"stand out suggestions\", you can include the code in this Ipython notebook and also discuss the results in the writeup file.\n",
    "\n",
    "\n",
    ">**Note:** Code and Markdown cells can be executed using the **Shift + Enter** keyboard shortcut. In addition, Markdown cells can be edited by typically double-clicking the cell to enter edit mode."
   ]
  },
  {
   "cell_type": "markdown",
   "metadata": {},
   "source": [
    "---\n",
    "## Step 0: Load The Data"
   ]
  },
  {
   "cell_type": "code",
   "execution_count": 4,
   "metadata": {
    "collapsed": true
   },
   "outputs": [],
   "source": [
    "# Load pickled data\n",
    "import pickle\n",
    "\n",
    "# TODO: Fill this in based on where you saved the training and testing data\n",
    "DATA_DIR = \"traffic-signs-data/\"\n",
    "\n",
    "training_file = DATA_DIR + \"train.p\"\n",
    "validation_file = DATA_DIR + \"valid.p\"\n",
    "testing_file = DATA_DIR + \"test.p\"\n",
    "\n",
    "with open(training_file, mode='rb') as f:\n",
    "    train = pickle.load(f)\n",
    "with open(validation_file, mode='rb') as f:\n",
    "    valid = pickle.load(f)\n",
    "with open(testing_file, mode='rb') as f:\n",
    "    test = pickle.load(f)\n",
    "    \n",
    "X_train, y_train = train['features'], train['labels']\n",
    "X_valid, y_valid = valid['features'], valid['labels']\n",
    "X_test, y_test = test['features'], test['labels']"
   ]
  },
  {
   "cell_type": "markdown",
   "metadata": {},
   "source": [
    "---\n",
    "\n",
    "## Step 1: Dataset Summary & Exploration\n",
    "\n",
    "The pickled data is a dictionary with 4 key/value pairs:\n",
    "\n",
    "- `'features'` is a 4D array containing raw pixel data of the traffic sign images, (num examples, width, height, channels).\n",
    "- `'labels'` is a 1D array containing the label/class id of the traffic sign. The file `signnames.csv` contains id -> name mappings for each id.\n",
    "- `'sizes'` is a list containing tuples, (width, height) representing the original width and height the image.\n",
    "- `'coords'` is a list containing tuples, (x1, y1, x2, y2) representing coordinates of a bounding box around the sign in the image. **THESE COORDINATES ASSUME THE ORIGINAL IMAGE. THE PICKLED DATA CONTAINS RESIZED VERSIONS (32 by 32) OF THESE IMAGES**\n",
    "\n",
    "Complete the basic data summary below. Use python, numpy and/or pandas methods to calculate the data summary rather than hard coding the results. For example, the [pandas shape method](http://pandas.pydata.org/pandas-docs/stable/generated/pandas.DataFrame.shape.html) might be useful for calculating some of the summary results. "
   ]
  },
  {
   "cell_type": "markdown",
   "metadata": {},
   "source": [
    "### Provide a Basic Summary of the Data Set Using Python, Numpy and/or Pandas"
   ]
  },
  {
   "cell_type": "code",
   "execution_count": 5,
   "metadata": {},
   "outputs": [
    {
     "name": "stdout",
     "output_type": "stream",
     "text": [
      "Number of training examples = 34799\n",
      "Number of validating examples = 4410\n",
      "Number of testing examples = 12630\n",
      "Image data shape = (32, 32, 3)\n",
      "Number of classes = 43\n"
     ]
    }
   ],
   "source": [
    "### Replace each question mark with the appropriate value. \n",
    "### Use python, pandas or numpy methods rather than hard coding the results\n",
    "import numpy as np\n",
    "\n",
    "# Number of training examples\n",
    "n_train = X_train.shape[0]\n",
    "\n",
    "# Number of validation examples\n",
    "n_validation = X_valid.shape[0]\n",
    "\n",
    "# Number of testing examples.\n",
    "n_test = X_test.shape[0]\n",
    "\n",
    "# What's the shape of an traffic sign image?\n",
    "image_shape = X_train.shape[1:]\n",
    "\n",
    "# How many unique classes/labels there are in the dataset.\n",
    "n_classes = np.unique(y_train).shape[0]\n",
    "\n",
    "print(\"Number of training examples =\", n_train)\n",
    "print(\"Number of validating examples =\", n_validation)\n",
    "print(\"Number of testing examples =\", n_test)\n",
    "print(\"Image data shape =\", image_shape)\n",
    "print(\"Number of classes =\", n_classes)"
   ]
  },
  {
   "cell_type": "markdown",
   "metadata": {},
   "source": [
    "### Include an exploratory visualization of the dataset"
   ]
  },
  {
   "cell_type": "markdown",
   "metadata": {},
   "source": [
    "Visualize the German Traffic Signs Dataset using the pickled file(s). This is open ended, suggestions include: plotting traffic sign images, plotting the count of each sign, etc. \n",
    "\n",
    "The [Matplotlib](http://matplotlib.org/) [examples](http://matplotlib.org/examples/index.html) and [gallery](http://matplotlib.org/gallery.html) pages are a great resource for doing visualizations in Python.\n",
    "\n",
    "**NOTE:** It's recommended you start with something simple first. If you wish to do more, come back to it after you've completed the rest of the sections. It can be interesting to look at the distribution of classes in the training, validation and test set. Is the distribution the same? Are there more examples of some classes than others?"
   ]
  },
  {
   "cell_type": "code",
   "execution_count": 6,
   "metadata": {},
   "outputs": [
    {
     "name": "stdout",
     "output_type": "stream",
     "text": [
      "Label: 7\n",
      "Sign:  Speed limit (100km/h)\n"
     ]
    },
    {
     "data": {
      "image/png": "[encoded data removed]",
      "text/plain": [
       "<matplotlib.figure.Figure at 0x7fc8701c12e8>"
      ]
     },
     "metadata": {},
     "output_type": "display_data"
    }
   ],
   "source": [
    "### Data exploration visualization code goes here.\n",
    "### Feel free to use as many code cells as needed.\n",
    "import random\n",
    "import csv\n",
    "import matplotlib.pyplot as plt\n",
    "# Visualizations will be shown in the notebook.\n",
    "%matplotlib inline\n",
    "\n",
    "traffic_sign_codes = dict()\n",
    "with open('signnames.csv') as csvFile:\n",
    "    csvReader = csv.reader(csvFile)\n",
    "    for row in csvReader:\n",
    "        if row[0].isdigit():\n",
    "            traffic_sign_codes[int(row[0])] = row[1]\n",
    "\n",
    "\n",
    "index = random.randint(0, len(X_train))\n",
    "image = X_train[index]\n",
    "\n",
    "plt.figure(figsize=(1,1))\n",
    "plt.imshow(image)\n",
    "label = y_train[index]\n",
    "print(\"Label: {}\\nSign:  {}\".format(label, traffic_sign_codes[label]))"
   ]
  },
  {
   "cell_type": "code",
   "execution_count": 16,
   "metadata": {},
   "outputs": [
    {
     "data": {
      "image/png": "[encoded data removed]",
      "text/plain": [
       "<matplotlib.figure.Figure at 0x7fc83cfe6b70>"
      ]
     },
     "metadata": {},
     "output_type": "display_data"
    }
   ],
   "source": [
    "uniq, counts = np.unique(y_train, return_counts=True)\n",
    "percent_train = counts * 100 / y_train.shape\n",
    "uniq, counts = np.unique(y_valid, return_counts=True)\n",
    "percent_valid = counts * 100 / y_valid.shape\n",
    "uniq, counts = np.unique(y_test, return_counts=True)\n",
    "percent_test = counts * 100 / y_test.shape\n",
    "\n",
    "plt.figure(figsize=(20,5))\n",
    "bar1 = plt.bar(uniq, percent_train, width=0.2, color='b')\n",
    "bar2 = plt.bar(uniq + 0.2, percent_valid, width=0.2, color='g')\n",
    "bar3 = plt.bar(uniq + 0.4, percent_test, width=0.2, color='r')\n",
    "plt.ylabel('percentage(%)')\n",
    "plt.xlabel('label')\n",
    "plt.legend((bar1, bar2, bar3), ('train', 'valid', 'test'))\n",
    "plt.show()"
   ]
  },
  {
   "cell_type": "code",
   "execution_count": 9,
   "metadata": {},
   "outputs": [
    {
     "data": {
      "image/png": "[encoded data removed]",
      "text/plain": [
       "<matplotlib.figure.Figure at 0x7fc83d414a90>"
      ]
     },
     "metadata": {},
     "output_type": "display_data"
    }
   ],
   "source": [
    "# plt.figure(figsize=(1,1))\n",
    "# fig, ax = plt.subplots()\n",
    "# bar1 = ax.bar(uniq, percent_train, width=0.2, color='b')\n",
    "# bar2 = ax.bar(uniq + 0.2, percent_valid, width=0.2, color='g')\n",
    "# bar3 = ax.bar(uniq + 0.4, percent_test, width=0.2, color='r')\n",
    "# ax.set_ylabel('percentage(%)')\n",
    "# ax.set_xlabel('label')\n",
    "# ax.legend((bar1, bar2, bar3), ('train', 'valid', 'test'))\n",
    "# plt.show()\n",
    "\n",
    "plt.figure(figsize=(10,10))\n",
    "plt.subplot(311)\n",
    "plt.bar(uniq, percent_train, width=0.8, color='b')\n",
    "# bar2 = ax.bar(uniq, percent_valid, width=0.8, color='g')\n",
    "# bar3 = ax.bar(uniq, percent_test, width=0.8, color='r')\n",
    "plt.ylabel('percentage(%)')\n",
    "plt.title('train')\n",
    "\n",
    "plt.subplot(312)\n",
    "plt.bar(uniq, percent_valid, width=0.8, color='g')\n",
    "# bar3 = ax.bar(uniq, percent_test, width=0.8, color='r')\n",
    "plt.ylabel('percentage(%)')\n",
    "plt.xlabel('label')\n",
    "plt.title('valid')\n",
    "\n",
    "plt.subplot(313)\n",
    "plt.bar(uniq, percent_test, width=0.8, color='r')\n",
    "plt.ylabel('percentage(%)')\n",
    "plt.xlabel('label')\n",
    "plt.title('test')\n",
    "\n",
    "\n",
    "plt.show()"
   ]
  },
  {
   "cell_type": "markdown",
   "metadata": {},
   "source": [
    "----\n",
    "\n",
    "## Step 2: Design and Test a Model Architecture\n",
    "\n",
    "Design and implement a deep learning model that learns to recognize traffic signs. Train and test your model on the [German Traffic Sign Dataset](http://benchmark.ini.rub.de/?section=gtsrb&subsection=dataset).\n",
    "\n",
    "The LeNet-5 implementation shown in the [classroom](https://classroom.udacity.com/nanodegrees/nd013/parts/fbf77062-5703-404e-b60c-95b78b2f3f9e/modules/6df7ae49-c61c-4bb2-a23e-6527e69209ec/lessons/601ae704-1035-4287-8b11-e2c2716217ad/concepts/d4aca031-508f-4e0b-b493-e7b706120f81) at the end of the CNN lesson is a solid starting point. You'll have to change the number of classes and possibly the preprocessing, but aside from that it's plug and play! \n",
    "\n",
    "With the LeNet-5 solution from the lecture, you should expect a validation set accuracy of about 0.89. To meet specifications, the validation set accuracy will need to be at least 0.93. It is possible to get an even higher accuracy, but 0.93 is the minimum for a successful project submission. \n",
    "\n",
    "There are various aspects to consider when thinking about this problem:\n",
    "\n",
    "- Neural network architecture (is the network over or underfitting?)\n",
    "- Play around preprocessing techniques (normalization, rgb to grayscale, etc)\n",
    "- Number of examples per label (some have more than others).\n",
    "- Generate fake data.\n",
    "\n",
    "Here is an example of a [published baseline model on this problem](http://yann.lecun.com/exdb/publis/pdf/sermanet-ijcnn-11.pdf). It's not required to be familiar with the approach used in the paper but, it's good practice to try to read papers like these."
   ]
  },
  {
   "cell_type": "markdown",
   "metadata": {},
   "source": [
    "### Pre-process the Data Set (normalization, grayscale, etc.)"
   ]
  },
  {
   "cell_type": "markdown",
   "metadata": {},
   "source": [
    "Minimally, the image data should be normalized so that the data has mean zero and equal variance. For image data, `(pixel - 128)/ 128` is a quick way to approximately normalize the data and can be used in this project. \n",
    "\n",
    "Other pre-processing steps are optional. You can try different techniques to see if it improves performance. \n",
    "\n",
    "Use the code cell (or multiple code cells, if necessary) to implement the first step of your project."
   ]
  },
  {
   "cell_type": "code",
   "execution_count": 26,
   "metadata": {},
   "outputs": [
    {
     "name": "stdout",
     "output_type": "stream",
     "text": [
      "The above shows how I pre-process the Data Set: grayscale and normalization\n",
      "For actual usage, they are integrated into the PipeLine class in 'Train, Validate and Test the Model' section\n"
     ]
    }
   ],
   "source": [
    "### Preprocess the data here. It is required to normalize the data. Other preprocessing steps could include \n",
    "### converting to grayscale, etc.\n",
    "### Feel free to use as many code cells as needed.\n",
    "import cv2\n",
    "def grayscale(img):\n",
    "    \"\"\"Applies the Grayscale transform\n",
    "    This will return an image with only one color channel\n",
    "    but NOTE: to see the returned image as grayscale\n",
    "    (assuming your grayscaled image is called 'gray')\n",
    "    you should call plt.imshow(gray, cmap='gray')\"\"\"\n",
    "    return cv2.cvtColor(img, cv2.COLOR_RGB2GRAY)\n",
    "\n",
    "def preprocess(x):\n",
    "  if x.shape[3] == 3:\n",
    "    x_gray = np.empty([x.shape[0], x.shape[1], x.shape[2], 1])\n",
    "    for i in range(0, x.shape[0]):\n",
    "      x_gray[i] = np.expand_dims(grayscale(x[i]), axis=2)\n",
    "  return (x_gray - 128) / 128\n",
    "\n",
    "print(\"The above shows how I pre-process the Data Set: grayscale and normalization\")\n",
    "print(\"For actual usage, they are integrated into the PipeLine class in 'Train, Validate and Test the Model' section\")"
   ]
  },
  {
   "cell_type": "markdown",
   "metadata": {},
   "source": [
    "### Model Architecture"
   ]
  },
  {
   "cell_type": "code",
   "execution_count": 8,
   "metadata": {
    "collapsed": true
   },
   "outputs": [],
   "source": [
    "### Define your architecture here.\n",
    "### Feel free to use as many code cells as needed.\n",
    "import tensorflow as tf\n",
    "from tensorflow.contrib.layers import flatten\n",
    "\n",
    "\n",
    "class LeNet:\n",
    "  def __init__(self, **kwargs):\n",
    "\n",
    "    self.mu = kwargs.get(\"mu\", 0)\n",
    "    self.sigma = kwargs.get(\"sigma\", 0.1)\n",
    "\n",
    "    self.conv1_output_depth = kwargs.get(\"conv1_output_depth\", 6)\n",
    "    self.conv1_filter = kwargs.get(\"conv1_filter\", 5)\n",
    "    self.conv1_stride = kwargs.get(\"conv1_stride\", 1)\n",
    "    self.conv1_pad = kwargs.get(\"conv1_pad\", 'VALID')\n",
    "    self.conv1_active = kwargs.get(\"conv1_active\", 'relu')\n",
    "\n",
    "    self.pool1_k = kwargs.get(\"pool1_k\", 2)\n",
    "    self.pool1_pad = kwargs.get(\"pool1_pad\", 'VALID')\n",
    "\n",
    "    self.conv2_output_depth = kwargs.get(\"conv2_output_depth\", 16)\n",
    "    self.conv2_filter = kwargs.get(\"conv2_filter\", 5)\n",
    "    self.conv2_stride = kwargs.get(\"conv2_stride\", 1)\n",
    "    self.conv2_pad = kwargs.get(\"conv2_pad\", 'VALID')\n",
    "    self.conv2_active = kwargs.get(\"conv2_active\", 'relu')\n",
    "\n",
    "    self.pool2_k = kwargs.get(\"pool2_k\", 2)\n",
    "    self.pool2_pad = kwargs.get(\"pool2_pad\", 'VALID')\n",
    "\n",
    "    self.conn3_depth = kwargs.get(\"conn3_depth\", 120)\n",
    "    self.conn3_active = kwargs.get(\"conn3_active\", 'relu')\n",
    "\n",
    "    self.conn4_depth = kwargs.get(\"conn4_depth\", 84)\n",
    "    self.conn4_active = kwargs.get(\"conn4_active\", 'relu')\n",
    "\n",
    "    self.weights = []\n",
    "\n",
    "  # helper functions\n",
    "  def generate_weights(self, *args):\n",
    "    weights = tf.Variable(tf.truncated_normal(shape=args, mean=self.mu, stddev=self.sigma))\n",
    "    self.weights.append(weights)\n",
    "    return weights\n",
    "\n",
    "  def generate_bias(self, size):\n",
    "    return tf.Variable(tf.zeros(size))\n",
    "\n",
    "  def conv2d_output(self, input, weights, bias, stride=1, padding='VALID'):\n",
    "    return tf.nn.conv2d(input, weights, strides=[1, stride, stride, 1], padding=padding) + bias\n",
    "\n",
    "  def fully_connect_output(self, input, weights, bias):\n",
    "    return tf.matmul(input, weights) + bias\n",
    "\n",
    "  def max_pool(self, input, k=2, padding='VALID'):\n",
    "    return tf.nn.max_pool(input, ksize=[1, k, k, 1], strides=[1, k, k, 1], padding=padding)\n",
    "\n",
    "  def output_shape(self, input_size, window_size=1, stride=1, padding='VALID'):\n",
    "    if padding == 'SAME':\n",
    "      return (input_size - 1) // stride + 1\n",
    "    else:\n",
    "      # 'VALID' by default\n",
    "      return (input_size - window_size) // stride + 1\n",
    "\n",
    "  # layer functions\n",
    "  def convolutional_layer(self, input, input_length, input_width, input_depth, output_depth,\n",
    "                          filter=3, stride=1, padding='VALID'):\n",
    "    weights = self.generate_weights(filter, filter, input_depth, output_depth)\n",
    "    bias = self.generate_bias(output_depth)\n",
    "    conv = self.conv2d_output(input, weights, bias, stride, padding)\n",
    "    conv_length = self.output_shape(input_length, filter, stride, padding)\n",
    "    conv_width = self.output_shape(input_width, filter, stride, padding)\n",
    "\n",
    "    return [conv, conv_length, conv_width]\n",
    "\n",
    "  def pool_layer(self, input, input_length, input_width, k=2, padding='VALID'):\n",
    "    output = self.max_pool(input, k, padding)\n",
    "    output_length = self.output_shape(input_length, k, k, padding)\n",
    "    output_width = self.output_shape(input_width, k, k, padding)\n",
    "    return [output, output_length, output_width]\n",
    "\n",
    "  def fully_connected_layer(self, input, input_size, output_size):\n",
    "    weights = self.generate_weights(input_size, output_size)\n",
    "    bias = self.generate_bias(output_size)\n",
    "    return self.fully_connect_output(input, weights, bias)\n",
    "\n",
    "  def activate(self, input, activate_method='relu'):\n",
    "    if activate_method == 'relu':\n",
    "      return tf.nn.relu(input)\n",
    "\n",
    "  # model function\n",
    "  def leNet(self, input, input_length, input_width, input_depth, label_count, keep_prob):\n",
    "    # Layer 1: Convolutional. \n",
    "    conv1, conv1_output_length, conv1_output_width = self.convolutional_layer(input, input_length,\n",
    "                                                                              input_width, input_depth,\n",
    "                                                                              self.conv1_output_depth,\n",
    "                                                                              self.conv1_filter,\n",
    "                                                                              self.conv1_stride,\n",
    "                                                                              self.conv1_pad)\n",
    "    conv1_output = self.activate(conv1, self.conv1_active)\n",
    "    conv1_output = tf.nn.dropout(conv1_output, keep_prob)\n",
    "\n",
    "    # Pooling after Layer 1. \n",
    "    [pool1_output, pool1_output_length, pool1_output_width] = self.pool_layer(conv1_output,\n",
    "                                                                              conv1_output_length, conv1_output_width,\n",
    "                                                                              self.pool1_k, self.pool1_pad)\n",
    "    pool_output_depth = self.conv1_output_depth\n",
    "\n",
    "    # Layer 2: Convolutional. \n",
    "    conv2, conv2_output_length, conv2_output_width = self.convolutional_layer(pool1_output, pool1_output_length,\n",
    "                                                                              pool1_output_width, pool_output_depth,\n",
    "                                                                              self.conv2_output_depth,\n",
    "                                                                              self.conv2_filter,\n",
    "                                                                              self.conv2_stride,\n",
    "                                                                              self.conv2_pad)\n",
    "    conv2_output = self.activate(conv2, self.conv2_active)\n",
    "    conv2_output = tf.nn.dropout(conv2_output, keep_prob)\n",
    "\n",
    "    # Pooling after Layer 2. \n",
    "    [pool2_output, pool2_output_length, pool2_output_width] = self.pool_layer(conv2_output,\n",
    "                                                                              conv2_output_length, conv2_output_width,\n",
    "                                                                              self.pool2_k, self.pool2_pad)\n",
    "    pool2_output_depth = self.conv2_output_depth\n",
    "\n",
    "    # Flatten after Layer 2. \n",
    "    fc0 = flatten(pool2_output)\n",
    "    flatten_size = pool2_output_length * pool2_output_width * pool2_output_depth\n",
    "\n",
    "    # Layer 3: Fully Connected. \n",
    "    fc1 = self.fully_connected_layer(fc0, flatten_size, self.conn3_depth)\n",
    "    fc1_output = self.activate(fc1, self.conn3_active)\n",
    "    fc1_output = tf.nn.dropout(fc1_output, keep_prob)\n",
    "\n",
    "    # Layer 4: Fully Connected. \n",
    "    fc2 = self.fully_connected_layer(fc1_output, self.conn3_depth, self.conn4_depth)\n",
    "    fc2_output = self.activate(fc2, self.conn4_active)\n",
    "    fc2_output = tf.nn.dropout(fc2_output, keep_prob)\n",
    "\n",
    "    # Layer 5: Fully Connected. \n",
    "    logits = self.fully_connected_layer(fc2_output, self.conn4_depth, label_count)\n",
    "    return [logits, self.weights]"
   ]
  },
  {
   "cell_type": "markdown",
   "metadata": {},
   "source": [
    "### Train, Validate and Test the Model"
   ]
  },
  {
   "cell_type": "markdown",
   "metadata": {},
   "source": [
    "A validation set can be used to assess how well the model is performing. A low accuracy on the training and validation\n",
    "sets imply underfitting. A high accuracy on the training set but low accuracy on the validation set implies overfitting."
   ]
  },
  {
   "cell_type": "code",
   "execution_count": 27,
   "metadata": {
    "collapsed": true
   },
   "outputs": [],
   "source": [
    "### Train your model here.\n",
    "### Calculate and report the accuracy on the training and validation set.\n",
    "### Once a final model architecture is selected, \n",
    "### the accuracy on the test set should be calculated and reported as well.\n",
    "### Feel free to use as many code cells as needed.\n",
    "import tensorflow as tf\n",
    "from sklearn.utils import shuffle\n",
    "import numpy as np\n",
    "import cv2, os\n",
    "\n",
    "MODEL_DIR = \"./model_saved/\"\n",
    "if not os.path.exists(MODEL_DIR):\n",
    "    os.makedirs(MODEL_DIR)\n",
    "    \n",
    "class PipeLine:\n",
    "  def __init__(self, example, label_count, **kwargs):\n",
    "\n",
    "    self.epochs = kwargs.get(\"epochs\", 10)\n",
    "    self.batch_size = kwargs.get(\"batch_size\", 128)\n",
    "    self.learning_rate = kwargs.get(\"learning_rate\", 0.001)\n",
    "    self.beta = kwargs.get(\"beta\", 0.01)\n",
    "    self.train_dropout = kwargs.get(\"train_dropout\", 1.0)\n",
    "\n",
    "    self.leNet_model = LeNet(**kwargs)\n",
    "\n",
    "    image_length, image_width, image_depth = example.shape\n",
    "\n",
    "    self.x = tf.placeholder(tf.float32, (None, image_length, image_width, image_depth))\n",
    "    self.y = tf.placeholder(tf.int32, (None))\n",
    "    self.keep_prob = tf.placeholder(\"float\")\n",
    "    one_hot_y = tf.one_hot(self.y, label_count)\n",
    "\n",
    "    logits, weights = self.leNet_model.leNet(self.x, image_length, image_width, image_depth, label_count, self.keep_prob)\n",
    "    cross_entropy = tf.nn.softmax_cross_entropy_with_logits(labels=one_hot_y, logits=logits)\n",
    "    for weight in weights:\n",
    "      cross_entropy += tf.nn.l2_loss(weight) * self.beta\n",
    "    loss_operation = tf.reduce_mean(cross_entropy)\n",
    "\n",
    "    optimizer = tf.train.AdamOptimizer(learning_rate=self.learning_rate)\n",
    "    self.training_operation = optimizer.minimize(loss_operation)\n",
    "\n",
    "    correct_prediction = tf.equal(tf.argmax(logits, 1), tf.argmax(one_hot_y, 1))\n",
    "    self.accuracy_operation = tf.reduce_mean(tf.cast(correct_prediction, tf.float32))\n",
    "\n",
    "    self.saver = tf.train.Saver()\n",
    "\n",
    "  def evaluate(self, X_data, y_data):\n",
    "    num_examples = len(X_data)\n",
    "    total_accuracy = 0\n",
    "    sess = tf.get_default_session()\n",
    "    for offset in range(0, num_examples, self.batch_size):\n",
    "      batch_x, batch_y = X_data[offset:offset + self.batch_size], y_data[offset:offset + self.batch_size]\n",
    "      accuracy = sess.run(self.accuracy_operation, feed_dict={self.x: batch_x, self.y: batch_y, self.keep_prob: 1.0})\n",
    "      total_accuracy += (accuracy * len(batch_x))\n",
    "    return total_accuracy / num_examples\n",
    "\n",
    "  def grayscale(self, img):\n",
    "    \"\"\"Applies the Grayscale transform\n",
    "    This will return an image with only one color channel\n",
    "    but NOTE: to see the returned image as grayscale\n",
    "    (assuming your grayscaled image is called 'gray')\n",
    "    you should call plt.imshow(gray, cmap='gray')\"\"\"\n",
    "    return cv2.cvtColor(img, cv2.COLOR_RGB2GRAY)\n",
    "\n",
    "  def preprocess(self, x):\n",
    "    if x.shape[3] == 3:\n",
    "      x_gray = np.empty([x.shape[0], x.shape[1], x.shape[2], 1])\n",
    "      for i in range(0, x.shape[0]):\n",
    "        x_gray[i] = np.expand_dims(self.grayscale(x[i]), axis=2)\n",
    "    return (x_gray - 128) / 128\n",
    "\n",
    "  def training(self, X_train, y_train, X_valid, y_valid, save_model=False):\n",
    "    self.preprocess(X_train)\n",
    "    self.preprocess(X_valid)\n",
    "    validation_accuracy = []\n",
    "    with tf.Session() as sess:\n",
    "      sess.run(tf.global_variables_initializer())\n",
    "      num_examples = len(X_train)\n",
    "\n",
    "      # print(\"Training...\\n\")\n",
    "      for i in range(self.epochs):\n",
    "        X_train, y_train = shuffle(X_train, y_train)\n",
    "        for offset in range(0, num_examples, self.batch_size):\n",
    "          end = offset + self.batch_size\n",
    "          batch_x, batch_y = X_train[offset:end], y_train[offset:end]\n",
    "          sess.run(self.training_operation, feed_dict={self.x: batch_x, self.y: batch_y, self.keep_prob: self.train_dropout})\n",
    "\n",
    "        validation_accuracy.append(self.evaluate(X_valid, y_valid))\n",
    "\n",
    "        # print(\"EPOCH {} ...\".format(i + 1))\n",
    "        # print(\"Validation Accuracy = {:.3f}\\n\".format(validation_accuracy[-1]))\n",
    "\n",
    "      if save_model:\n",
    "        self.saver.save(sess, MODEL_DIR + 'lenet')\n",
    "        print(\"Model saved\")\n",
    "    return validation_accuracy\n",
    "\n",
    "  def testing(self, X_test, y_test):\n",
    "    self.preprocess(X_test)\n",
    "    with tf.Session() as sess:\n",
    "      self.saver.restore(sess, tf.train.latest_checkpoint(MODEL_DIR))\n",
    "\n",
    "      test_accuracy = self.evaluate(X_test, y_test)\n",
    "      print(\"Test Accuracy = {:.3f}\".format(test_accuracy))"
   ]
  },
  {
   "cell_type": "markdown",
   "metadata": {},
   "source": [
    "#### Train the model\n",
    "Note: uncomment the print command in the PipeLine class to see the training information"
   ]
  },
  {
   "cell_type": "code",
   "execution_count": 17,
   "metadata": {},
   "outputs": [
    {
     "name": "stdout",
     "output_type": "stream",
     "text": [
      "Training...\n",
      "\n",
      "EPOCH 1 ...\n",
      "Validation Accuracy = 0.157\n",
      "\n",
      "EPOCH 2 ...\n",
      "Validation Accuracy = 0.561\n",
      "\n",
      "EPOCH 3 ...\n",
      "Validation Accuracy = 0.697\n",
      "\n",
      "EPOCH 4 ...\n",
      "Validation Accuracy = 0.794\n",
      "\n",
      "EPOCH 5 ...\n",
      "Validation Accuracy = 0.829\n",
      "\n",
      "EPOCH 6 ...\n",
      "Validation Accuracy = 0.866\n",
      "\n",
      "EPOCH 7 ...\n",
      "Validation Accuracy = 0.894\n",
      "\n",
      "EPOCH 8 ...\n",
      "Validation Accuracy = 0.907\n",
      "\n",
      "EPOCH 9 ...\n",
      "Validation Accuracy = 0.915\n",
      "\n",
      "EPOCH 10 ...\n",
      "Validation Accuracy = 0.908\n",
      "\n",
      "EPOCH 11 ...\n",
      "Validation Accuracy = 0.933\n",
      "\n",
      "EPOCH 12 ...\n",
      "Validation Accuracy = 0.922\n",
      "\n",
      "EPOCH 13 ...\n",
      "Validation Accuracy = 0.918\n",
      "\n",
      "EPOCH 14 ...\n",
      "Validation Accuracy = 0.934\n",
      "\n",
      "EPOCH 15 ...\n",
      "Validation Accuracy = 0.943\n",
      "\n",
      "EPOCH 16 ...\n",
      "Validation Accuracy = 0.950\n",
      "\n",
      "EPOCH 17 ...\n",
      "Validation Accuracy = 0.950\n",
      "\n",
      "EPOCH 18 ...\n",
      "Validation Accuracy = 0.942\n",
      "\n",
      "EPOCH 19 ...\n",
      "Validation Accuracy = 0.939\n",
      "\n",
      "EPOCH 20 ...\n",
      "Validation Accuracy = 0.939\n",
      "\n",
      "EPOCH 21 ...\n",
      "Validation Accuracy = 0.945\n",
      "\n",
      "EPOCH 22 ...\n",
      "Validation Accuracy = 0.943\n",
      "\n",
      "EPOCH 23 ...\n",
      "Validation Accuracy = 0.937\n",
      "\n",
      "EPOCH 24 ...\n",
      "Validation Accuracy = 0.944\n",
      "\n",
      "EPOCH 25 ...\n",
      "Validation Accuracy = 0.952\n",
      "\n",
      "EPOCH 26 ...\n",
      "Validation Accuracy = 0.943\n",
      "\n",
      "EPOCH 27 ...\n",
      "Validation Accuracy = 0.951\n",
      "\n",
      "EPOCH 28 ...\n",
      "Validation Accuracy = 0.942\n",
      "\n",
      "EPOCH 29 ...\n",
      "Validation Accuracy = 0.940\n",
      "\n",
      "EPOCH 30 ...\n",
      "Validation Accuracy = 0.959\n",
      "\n",
      "EPOCH 31 ...\n",
      "Validation Accuracy = 0.947\n",
      "\n",
      "EPOCH 32 ...\n",
      "Validation Accuracy = 0.951\n",
      "\n",
      "EPOCH 33 ...\n",
      "Validation Accuracy = 0.956\n",
      "\n",
      "EPOCH 34 ...\n",
      "Validation Accuracy = 0.951\n",
      "\n",
      "EPOCH 35 ...\n",
      "Validation Accuracy = 0.945\n",
      "\n",
      "EPOCH 36 ...\n",
      "Validation Accuracy = 0.958\n",
      "\n",
      "EPOCH 37 ...\n",
      "Validation Accuracy = 0.947\n",
      "\n",
      "EPOCH 38 ...\n",
      "Validation Accuracy = 0.946\n",
      "\n",
      "EPOCH 39 ...\n",
      "Validation Accuracy = 0.956\n",
      "\n",
      "EPOCH 40 ...\n",
      "Validation Accuracy = 0.954\n",
      "\n",
      "EPOCH 41 ...\n",
      "Validation Accuracy = 0.956\n",
      "\n",
      "EPOCH 42 ...\n",
      "Validation Accuracy = 0.950\n",
      "\n",
      "EPOCH 43 ...\n",
      "Validation Accuracy = 0.950\n",
      "\n",
      "EPOCH 44 ...\n",
      "Validation Accuracy = 0.958\n",
      "\n",
      "EPOCH 45 ...\n",
      "Validation Accuracy = 0.957\n",
      "\n",
      "EPOCH 46 ...\n",
      "Validation Accuracy = 0.954\n",
      "\n",
      "EPOCH 47 ...\n",
      "Validation Accuracy = 0.952\n",
      "\n",
      "EPOCH 48 ...\n",
      "Validation Accuracy = 0.945\n",
      "\n",
      "EPOCH 49 ...\n",
      "Validation Accuracy = 0.942\n",
      "\n",
      "EPOCH 50 ...\n",
      "Validation Accuracy = 0.958\n",
      "\n",
      "Model saved\n",
      "Test Accuracy = 0.943\n"
     ]
    }
   ],
   "source": [
    "pipeline = PipeLine(example=X_train[0], label_count=np.unique(y_train).shape[0], epochs=50,\n",
    "                  train_dropout=0.7,\n",
    "                  beta=0.02,\n",
    "                  sigma=0.1,\n",
    "                  batch_siz=32,\n",
    "                  conv1_output_depth=18,\n",
    "                  conv3_depth=360,\n",
    "                  conv4_depth=336)\n",
    "pipeline.training(X_train, y_train, X_valid, y_valid, save_model=True)"
   ]
  },
  {
   "cell_type": "markdown",
   "metadata": {},
   "source": [
    "#### Testing the model"
   ]
  },
  {
   "cell_type": "code",
   "execution_count": 18,
   "metadata": {},
   "outputs": [
    {
     "name": "stdout",
     "output_type": "stream",
     "text": [
      "Test Accuracy = 0.988\n",
      "Test Accuracy = 0.958\n",
      "Test Accuracy = 0.943\n"
     ]
    }
   ],
   "source": [
    "pipeline.testing(X_train, y_train)\n",
    "pipeline.testing(X_valid, y_valid)\n",
    "pipeline.testing(X_test, y_test)"
   ]
  },
  {
   "cell_type": "markdown",
   "metadata": {},
   "source": [
    "### Tune the model parameters\n",
    "Note: Comment the print command in the PipeLine class to avoid printing too much\n",
    "      Please also note This block runs for quite long. I actually run it in command line, not in a python notebook."
   ]
  },
  {
   "cell_type": "code",
   "execution_count": null,
   "metadata": {},
   "outputs": [
    {
     "name": "stdout",
     "output_type": "stream",
     "text": [
      "training with        train_dropout       0.65\n",
      "training with        train_dropout       0.75\n",
      "training with         conv2_filter          1\n",
      "training with         conv2_filter          2\n",
      "training with         conv2_filter          3\n",
      "training with         conv1_filter          1\n",
      "training with         conv1_filter          5\n"
     ]
    }
   ],
   "source": [
    "import timeit\n",
    "\n",
    "def experiment(outputFile, paramValues, paramDefaultValue):\n",
    "  train_model(outputFile, \"default\", \"default\", **paramDefaultValue)\n",
    "  for key in paramValues.keys():\n",
    "    for value in paramValues[key]:\n",
    "      if value != paramDefaultValue[key]:\n",
    "        print(\"training with %20s %10s\" % (key, value))\n",
    "        params = dict(paramDefaultValue) # deep copy\n",
    "        params[key] = value\n",
    "        train_model(outputFile, key, value, **params)\n",
    "\n",
    "def train_model(outputFile, key, value, **params):\n",
    "  pipeline = PipeLine(example=X_train[0], label_count=np.unique(y_train).shape[0], **params)\n",
    "\n",
    "  start_train = timeit.default_timer()\n",
    "  accuracy = pipeline.training(X_train, y_train, X_valid, y_valid)\n",
    "  stop_train = timeit.default_timer()\n",
    "  format = \"%5.2f %20s %10s \" + \"%.3f \" * params[\"epochs\"] + \"\\n\"\n",
    "  outputFile.write(format % (stop_train - start_train, key, value, *accuracy))\n",
    "  outputFile.flush()\n",
    "\n",
    "paramValues = {\n",
    "  # hyper parameters\n",
    "  \"train_dropout\": [0.65, 0.75],\n",
    "  # \"beta\": [0.001, 0.005, 0.01, 0.02, 0.05],\n",
    "  # \"epochs\": [5, 10, 20],\n",
    "  # \"batch_size\": [32, 64, 128, 256, 512, 1024, 2048],\n",
    "  # \"learning_rate\": [0.01, 0.005, 0.001, 0.0005],\n",
    "  # \"mu\": [0],\n",
    "  \"sigma\": [0.005, 0.01, 0.1, 0.5],\n",
    "  # model parameters\n",
    "  \"conv1_output_depth\": [3, 6, 9, 12, 18],\n",
    "  \"conv1_filter\": [1, 3, 5, 7],\n",
    "  # \"conv1_stride\": [1, 2],\n",
    "  # \"conv1_pad\": ['VALID'],\n",
    "  # \"conv1_active\": ['relu'],\n",
    "  # \"pool1_k\": [2, 3],\n",
    "  # \"pool1_pad\": ['VALID'],\n",
    "  # \"conv2_output_depth\": [10, 16, 25],\n",
    "  \"conv2_filter\": [1, 2, 3, 5],\n",
    "  # \"conv2_stride\": [1, 2],\n",
    "  # \"conv2_pad\": ['VALID'],\n",
    "  # \"conv2_active\": ['relu'],\n",
    "  # \"pool2_k\": [2, 3],\n",
    "  # \"pool2_pad\": ['VALID'],\n",
    "  \"conn3_depth\": [120, 240, 360],\n",
    "  # \"conn3_active\": ['relu'],\n",
    "  \"conn4_depth\": [84, 168, 336],\n",
    "  # \"conn4_active\": ['relu']\n",
    "}\n",
    "\n",
    "paramDefaultValue = {\n",
    "  # hyper parameters\n",
    "  \"train_dropout\": 0.7,\n",
    "  \"beta\": 0.02,\n",
    "  \"epochs\": 30,\n",
    "  \"batch_size\": 32,\n",
    "  \"learning_rate\": 0.001,\n",
    "  \"mu\": 0,\n",
    "  \"sigma\": 0.1,\n",
    "  # model parameters\n",
    "  \"conv1_output_depth\": 18,\n",
    "  \"conv1_filter\": 3,\n",
    "  \"conv1_stride\": 1,\n",
    "  \"conv1_pad\": 'VALID',\n",
    "  \"conv1_active\": 'relu',\n",
    "  \"pool1_k\": 2,\n",
    "  \"pool1_pad\": 'VALID',\n",
    "  \"conv2_output_depth\": 16,\n",
    "  \"conv2_filter\": 5,\n",
    "  \"conv2_stride\": 1,\n",
    "  \"conv2_pad\": 'VALID',\n",
    "  \"conv2_active\": 'relu',\n",
    "  \"pool2_k\": 2,\n",
    "  \"pool2_pad\": 'VALID',\n",
    "  \"conn3_depth\": 360,\n",
    "  \"conn3_active\": 'relu',\n",
    "  \"conn4_depth\": 336,\n",
    "  \"conn4_active\": 'relu'\n",
    "}\n",
    "\n",
    "outputFile = open(\"experiment_result.txt\", 'w')\n",
    "\n",
    "experiment(outputFile, paramValues, paramDefaultValue)\n",
    "outputFile.close()"
   ]
  },
  {
   "cell_type": "markdown",
   "metadata": {},
   "source": [
    "---\n",
    "\n",
    "## Step 3: Test a Model on New Images\n",
    "\n",
    "To give yourself more insight into how your model is working, download at least five pictures of German traffic signs from the web and use your model to predict the traffic sign type.\n",
    "\n",
    "You may find `signnames.csv` useful as it contains mappings from the class id (integer) to the actual sign name."
   ]
  },
  {
   "cell_type": "markdown",
   "metadata": {},
   "source": [
    "### Load and Output the Images"
   ]
  },
  {
   "cell_type": "code",
   "execution_count": null,
   "metadata": {
    "collapsed": true
   },
   "outputs": [],
   "source": [
    "### Load the images and plot them here.\n",
    "### Feel free to use as many code cells as needed."
   ]
  },
  {
   "cell_type": "markdown",
   "metadata": {},
   "source": [
    "### Predict the Sign Type for Each Image"
   ]
  },
  {
   "cell_type": "code",
   "execution_count": 3,
   "metadata": {
    "collapsed": true
   },
   "outputs": [],
   "source": [
    "### Run the predictions here and use the model to output the prediction for each image.\n",
    "### Make sure to pre-process the images with the same pre-processing pipeline used earlier.\n",
    "### Feel free to use as many code cells as needed."
   ]
  },
  {
   "cell_type": "markdown",
   "metadata": {},
   "source": [
    "### Analyze Performance"
   ]
  },
  {
   "cell_type": "code",
   "execution_count": 4,
   "metadata": {
    "collapsed": true
   },
   "outputs": [],
   "source": [
    "### Calculate the accuracy for these 5 new images. \n",
    "### For example, if the model predicted 1 out of 5 signs correctly, it's 20% accurate on these new images."
   ]
  },
  {
   "cell_type": "markdown",
   "metadata": {},
   "source": [
    "### Output Top 5 Softmax Probabilities For Each Image Found on the Web"
   ]
  },
  {
   "cell_type": "markdown",
   "metadata": {},
   "source": [
    "For each of the new images, print out the model's softmax probabilities to show the **certainty** of the model's predictions (limit the output to the top 5 probabilities for each image). [`tf.nn.top_k`](https://www.tensorflow.org/versions/r0.12/api_docs/python/nn.html#top_k) could prove helpful here. \n",
    "\n",
    "The example below demonstrates how tf.nn.top_k can be used to find the top k predictions for each image.\n",
    "\n",
    "`tf.nn.top_k` will return the values and indices (class ids) of the top k predictions. So if k=3, for each sign, it'll return the 3 largest probabilities (out of a possible 43) and the correspoding class ids.\n",
    "\n",
    "Take this numpy array as an example. The values in the array represent predictions. The array contains softmax probabilities for five candidate images with six possible classes. `tk.nn.top_k` is used to choose the three classes with the highest probability:\n",
    "\n",
    "```\n",
    "# (5, 6) array\n",
    "a = np.array([[ 0.24879643,  0.07032244,  0.12641572,  0.34763842,  0.07893497,\n",
    "         0.12789202],\n",
    "       [ 0.28086119,  0.27569815,  0.08594638,  0.0178669 ,  0.18063401,\n",
    "         0.15899337],\n",
    "       [ 0.26076848,  0.23664738,  0.08020603,  0.07001922,  0.1134371 ,\n",
    "         0.23892179],\n",
    "       [ 0.11943333,  0.29198961,  0.02605103,  0.26234032,  0.1351348 ,\n",
    "         0.16505091],\n",
    "       [ 0.09561176,  0.34396535,  0.0643941 ,  0.16240774,  0.24206137,\n",
    "         0.09155967]])\n",
    "```\n",
    "\n",
    "Running it through `sess.run(tf.nn.top_k(tf.constant(a), k=3))` produces:\n",
    "\n",
    "```\n",
    "TopKV2(values=array([[ 0.34763842,  0.24879643,  0.12789202],\n",
    "       [ 0.28086119,  0.27569815,  0.18063401],\n",
    "       [ 0.26076848,  0.23892179,  0.23664738],\n",
    "       [ 0.29198961,  0.26234032,  0.16505091],\n",
    "       [ 0.34396535,  0.24206137,  0.16240774]]), indices=array([[3, 0, 5],\n",
    "       [0, 1, 4],\n",
    "       [0, 5, 1],\n",
    "       [1, 3, 5],\n",
    "       [1, 4, 3]], dtype=int32))\n",
    "```\n",
    "\n",
    "Looking just at the first row we get `[ 0.34763842,  0.24879643,  0.12789202]`, you can confirm these are the 3 largest probabilities in `a`. You'll also notice `[3, 0, 5]` are the corresponding indices."
   ]
  },
  {
   "cell_type": "code",
   "execution_count": 3,
   "metadata": {
    "collapsed": true
   },
   "outputs": [],
   "source": [
    "### Print out the top five softmax probabilities for the predictions on the German traffic sign images found on the web. \n",
    "### Feel free to use as many code cells as needed."
   ]
  },
  {
   "cell_type": "markdown",
   "metadata": {},
   "source": [
    "### Project Writeup\n",
    "\n",
    "Once you have completed the code implementation, document your results in a project writeup using this [template](https://github.com/udacity/CarND-Traffic-Sign-Classifier-Project/blob/master/writeup_template.md) as a guide. The writeup can be in a markdown or pdf file. "
   ]
  },
  {
   "cell_type": "markdown",
   "metadata": {},
   "source": [
    "> **Note**: Once you have completed all of the code implementations and successfully answered each question above, you may finalize your work by exporting the iPython Notebook as an HTML document. You can do this by using the menu above and navigating to  \\n\",\n",
    "    \"**File -> Download as -> HTML (.html)**. Include the finished document along with this notebook as your submission."
   ]
  },
  {
   "cell_type": "markdown",
   "metadata": {},
   "source": [
    "---\n",
    "\n",
    "## Step 4 (Optional): Visualize the Neural Network's State with Test Images\n",
    "\n",
    " This Section is not required to complete but acts as an additional excersise for understaning the output of a neural network's weights. While neural networks can be a great learning device they are often referred to as a black box. We can understand what the weights of a neural network look like better by plotting their feature maps. After successfully training your neural network you can see what it's feature maps look like by plotting the output of the network's weight layers in response to a test stimuli image. From these plotted feature maps, it's possible to see what characteristics of an image the network finds interesting. For a sign, maybe the inner network feature maps react with high activation to the sign's boundary outline or to the contrast in the sign's painted symbol.\n",
    "\n",
    " Provided for you below is the function code that allows you to get the visualization output of any tensorflow weight layer you want. The inputs to the function should be a stimuli image, one used during training or a new one you provided, and then the tensorflow variable name that represents the layer's state during the training process, for instance if you wanted to see what the [LeNet lab's](https://classroom.udacity.com/nanodegrees/nd013/parts/fbf77062-5703-404e-b60c-95b78b2f3f9e/modules/6df7ae49-c61c-4bb2-a23e-6527e69209ec/lessons/601ae704-1035-4287-8b11-e2c2716217ad/concepts/d4aca031-508f-4e0b-b493-e7b706120f81) feature maps looked like for it's second convolutional layer you could enter conv2 as the tf_activation variable.\n",
    "\n",
    "For an example of what feature map outputs look like, check out NVIDIA's results in their paper [End-to-End Deep Learning for Self-Driving Cars](https://devblogs.nvidia.com/parallelforall/deep-learning-self-driving-cars/) in the section Visualization of internal CNN State. NVIDIA was able to show that their network's inner weights had high activations to road boundary lines by comparing feature maps from an image with a clear path to one without. Try experimenting with a similar test to show that your trained network's weights are looking for interesting features, whether it's looking at differences in feature maps from images with or without a sign, or even what feature maps look like in a trained network vs a completely untrained one on the same sign image.\n",
    "\n",
    "<figure>\n",
    " <img src=\"visualize_cnn.png\" width=\"380\" alt=\"Combined Image\" />\n",
    " <figcaption>\n",
    " <p></p> \n",
    " <p style=\"text-align: center;\"> Your output should look something like this (above)</p> \n",
    " </figcaption>\n",
    "</figure>\n",
    " <p></p> \n"
   ]
  },
  {
   "cell_type": "code",
   "execution_count": null,
   "metadata": {
    "collapsed": true
   },
   "outputs": [],
   "source": [
    "### Visualize your network's feature maps here.\n",
    "### Feel free to use as many code cells as needed.\n",
    "\n",
    "# image_input: the test image being fed into the network to produce the feature maps\n",
    "# tf_activation: should be a tf variable name used during your training procedure that represents the calculated state of a specific weight layer\n",
    "# activation_min/max: can be used to view the activation contrast in more detail, by default matplot sets min and max to the actual min and max values of the output\n",
    "# plt_num: used to plot out multiple different weight feature map sets on the same block, just extend the plt number for each new feature map entry\n",
    "\n",
    "def outputFeatureMap(image_input, tf_activation, activation_min=-1, activation_max=-1 ,plt_num=1):\n",
    "    # Here make sure to preprocess your image_input in a way your network expects\n",
    "    # with size, normalization, ect if needed\n",
    "    # image_input =\n",
    "    # Note: x should be the same name as your network's tensorflow data placeholder variable\n",
    "    # If you get an error tf_activation is not defined it may be having trouble accessing the variable from inside a function\n",
    "    activation = tf_activation.eval(session=sess,feed_dict={x : image_input})\n",
    "    featuremaps = activation.shape[3]\n",
    "    plt.figure(plt_num, figsize=(15,15))\n",
    "    for featuremap in range(featuremaps):\n",
    "        plt.subplot(6,8, featuremap+1) # sets the number of feature maps to show on each row and column\n",
    "        plt.title('FeatureMap ' + str(featuremap)) # displays the feature map number\n",
    "        if activation_min != -1 & activation_max != -1:\n",
    "            plt.imshow(activation[0,:,:, featuremap], interpolation=\"nearest\", vmin =activation_min, vmax=activation_max, cmap=\"gray\")\n",
    "        elif activation_max != -1:\n",
    "            plt.imshow(activation[0,:,:, featuremap], interpolation=\"nearest\", vmax=activation_max, cmap=\"gray\")\n",
    "        elif activation_min !=-1:\n",
    "            plt.imshow(activation[0,:,:, featuremap], interpolation=\"nearest\", vmin=activation_min, cmap=\"gray\")\n",
    "        else:\n",
    "            plt.imshow(activation[0,:,:, featuremap], interpolation=\"nearest\", cmap=\"gray\")"
   ]
  }
 ],
 "metadata": {
  "anaconda-cloud": {},
  "kernelspec": {
   "display_name": "Python 3",
   "language": "python",
   "name": "python3"
  },
  "widgets": {
   "state": {},
   "version": "1.1.2"
  }
 },
 "nbformat": 4,
 "nbformat_minor": 1
}
